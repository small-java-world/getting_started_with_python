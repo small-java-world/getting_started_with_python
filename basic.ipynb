{
 "metadata": {
  "language_info": {
   "codemirror_mode": {
    "name": "ipython",
    "version": 3
   },
   "file_extension": ".py",
   "mimetype": "text/x-python",
   "name": "python",
   "nbconvert_exporter": "python",
   "pygments_lexer": "ipython3",
   "version": "3.8.8"
  },
  "orig_nbformat": 2,
  "kernelspec": {
   "name": "python388jvsc74a57bd055f8b8bdefb0bcb10b6c6087b05f9c13c5c576787b9e2af0cfdae9d8a6ba4f88",
   "display_name": "Python 3.8.8 64-bit ('base': conda)"
  }
 },
 "nbformat": 4,
 "nbformat_minor": 2,
 "cells": [
  {
   "cell_type": "code",
   "execution_count": 2,
   "metadata": {},
   "outputs": [],
   "source": [
    "import pytest"
   ]
  },
  {
   "source": [
    "# str"
   ],
   "cell_type": "markdown",
   "metadata": {}
  },
  {
   "cell_type": "code",
   "execution_count": 1,
   "metadata": {},
   "outputs": [],
   "source": [
    "str_value_1 = \"hoge\"\n",
    "str_value_2 = \"fuga\"\n",
    "\n",
    "# サイズと中身のチェック\n",
    "assert len(str_value_1) == 4\n",
    "assert str_value_1 == \"hoge\"\n",
    "assert str_value_2 == \"fuga\"\n",
    "\n",
    "# type 自身のtypeをチェック\n",
    "assert type(str_value_1) is str\n",
    "assert not type(str_value_1) is object\n",
    "\n",
    "# isinstance 継承元も含めてチェック\n",
    "assert isinstance(str_value_1, str)\n",
    "assert isinstance(str_value_1, object)\n",
    "\n",
    "# str_value_1の参照をstr_value2_として定義\n",
    "str_value_3 = str_value_1\n",
    "\n",
    "# str_value_1とstr_value_2は同じオブジェクトを参照しているのでisでtrue\n",
    "assert str_value_1 is str_value_3\n",
    "# str_value_1とstr_value_2は同じオブジェクトを参照しているのでidも一致\n",
    "assert id(str_value_1) == id(str_value_3)\n",
    "\n",
    "# strはイミュータブルな事を確認するためにidを取得\n",
    "str_value_1_old_id = id(str_value_1)\n",
    "\n",
    "# 値を変更するとidが変わることを確認\n",
    "str_value_1 = str_value_1 + \"hoge\"\n",
    "assert str_value_1 == \"hogehoge\"\n",
    "str_value_1_new_id = id(str_value_1)\n",
    "assert not str_value_1_new_id == str_value_1_old_id"
   ]
  },
  {
   "source": [
    "# intとfloat"
   ],
   "cell_type": "markdown",
   "metadata": {}
  },
  {
   "source": [
    "## 定義方法"
   ],
   "cell_type": "markdown",
   "metadata": {}
  },
  {
   "cell_type": "code",
   "execution_count": 5,
   "metadata": {},
   "outputs": [],
   "source": [
    "# int(数値の文字列)でintに変換\n",
    "int_value_from_str1 = int(\"100\")\n",
    "assert int_value_from_str1 == 100\n",
    "\n",
    "# 固定長の数値文字列のような0詰めでも変換可能\n",
    "int_value_from_str2 = int(\"0100\")\n",
    "assert int_value_from_str2 == 100\n",
    "\n",
    "# intに数値以外を渡すとValueErrorが発生\n",
    "with pytest.raises(ValueError):   \n",
    "    int_value = int(\"hoge\")\n",
    "\n",
    "float_value_from_str1 = float(\"100\")\n",
    "assert float_value_from_str1 == 100.0\n",
    "\n",
    "float_value_from_str2 = float(\"123.45\")\n",
    "assert float_value_from_str2 == 123.45"
   ]
  },
  {
   "source": [
    "## strをintとfloatに変換"
   ],
   "cell_type": "markdown",
   "metadata": {}
  },
  {
   "cell_type": "code",
   "execution_count": 6,
   "metadata": {},
   "outputs": [],
   "source": [
    "assert str(200) == \"200\"\n",
    "assert str(1.234) == \"1.234\"\n",
    "\n",
    "# intを16進文字\n",
    "assert \"{:x}\".format(255) == \"ff\"\n",
    "\n",
    "# xとして解釈できない値を指定するとValueError\n",
    "with pytest.raises(ValueError):\n",
    "    \"{:x}\".format(\"hoge\")\n",
    "\n",
    "# 先頭ゼロ詰めの固定長(4桁)の16進の文字列\n",
    "assert \"{:04x}\".format(255) == \"00ff\"\n",
    "\n",
    "# intを2進文字列\n",
    "assert \"{:b}\".format(255) == \"11111111\"\n",
    "\n",
    "# 先頭ゼロ詰めの固定長(10桁)の2進文字列\n",
    "assert \"{:010b}\".format(255) == \"0011111111\""
   ]
  },
  {
   "source": [
    "## intとfloatをstrに変換"
   ],
   "cell_type": "markdown",
   "metadata": {}
  },
  {
   "cell_type": "code",
   "execution_count": 7,
   "metadata": {},
   "outputs": [],
   "source": [
    "assert str(200) == \"200\"\n",
    "assert str(1.234) == \"1.234\"\n",
    "\n",
    "# intを16進文字\n",
    "assert \"{:x}\".format(255) == \"ff\"\n",
    "\n",
    "# xとして解釈できない値を指定するとValueError\n",
    "with pytest.raises(ValueError):\n",
    "    \"{:x}\".format(\"hoge\")\n",
    "\n",
    "# 先頭ゼロ詰めの固定長(4桁)の16進の文字列\n",
    "assert \"{:04x}\".format(255) == \"00ff\"\n",
    "\n",
    "# intを2進文字列\n",
    "assert \"{:b}\".format(255) == \"11111111\"\n",
    "\n",
    "# 先頭ゼロ詰めの固定長(10桁)の2進文字列\n",
    "assert \"{:010b}\".format(255) == \"0011111111\""
   ]
  },
  {
   "source": [
    "# bytes"
   ],
   "cell_type": "markdown",
   "metadata": {}
  },
  {
   "cell_type": "code",
   "execution_count": 8,
   "metadata": {},
   "outputs": [],
   "source": [
    "str_value = \"foo\"\n",
    "bytes_value = bytes([102,111,111])\n",
    "\n",
    "#サイズと中身のチェック\n",
    "assert len(bytes_value) == 3 \n",
    "assert bytes_value[0] == 102\n",
    "assert bytes_value[1] == 111\n",
    "assert bytes_value[2] == 111\n",
    "\n",
    "#strに変換してチェック\n",
    "assert bytes_value.decode('utf-8') == \"foo\"\n",
    "assert bytes_value.decode('utf-8') == str_value\n",
    "\n",
    "#type 自身のtypeをチェック\n",
    "assert type(bytes_value) is bytes"
   ]
  },
  {
   "source": [
    "# datetime"
   ],
   "cell_type": "markdown",
   "metadata": {}
  },
  {
   "source": [
    "## 宣言"
   ],
   "cell_type": "markdown",
   "metadata": {}
  },
  {
   "cell_type": "code",
   "execution_count": 9,
   "metadata": {},
   "outputs": [],
   "source": [
    "import datetime\n",
    "\n",
    "dt_now = datetime.datetime.now()\n",
    "assert type(dt_now) is datetime.datetime\n",
    "\n",
    "base_year, base_month, base_day, base_hour, base_minute, base_second = 2021, 5, 23, 1, 10, 20\n",
    "dt_value_1 = datetime.datetime(base_year , base_month , base_day)\n",
    "\n",
    "assert dt_value_1.year == base_year\n",
    "assert dt_value_1.month == base_month\n",
    "assert dt_value_1.day == base_day\n",
    "assert dt_value_1.hour == 0\n",
    "assert dt_value_1.minute == 0\n",
    "assert dt_value_1.second == 0\n",
    "\n",
    "dt_value_2 = datetime.datetime(base_year, base_month , base_day, base_hour, base_minute, base_second)\n",
    "\n",
    "assert dt_value_2.year == base_year\n",
    "assert dt_value_2.month == base_month\n",
    "assert dt_value_2.day == base_day\n",
    "assert dt_value_2.hour == base_hour\n",
    "assert dt_value_2.minute == base_minute\n",
    "assert dt_value_2.second == base_second\n",
    "\n",
    "# tzinfoはdatetime.timezone.utcを指定して生成\n",
    "dt_utc = datetime.datetime(base_year , base_month , base_day, tzinfo=datetime.timezone.utc)\n",
    "\n",
    "# dt_utc.tzinfoはdatetime.timezone.utcとなるべき\n",
    "assert dt_utc.tzinfo == datetime.timezone.utc\n",
    "\n",
    "# dt_value1はtzinfo未指定なのでNoneとなるべき\n",
    "assert dt_value_1.tzinfo == None"
   ]
  },
  {
   "source": [
    "## datetimeの比較"
   ],
   "cell_type": "markdown",
   "metadata": {}
  },
  {
   "cell_type": "code",
   "execution_count": 10,
   "metadata": {},
   "outputs": [],
   "source": [
    "base_year, base_month, base_day, base_hour, base_minute, base_second = 2021, 5, 23, 1, 10, 20\n",
    "dt_comp_value_1 = datetime.datetime(base_year, base_month , base_day, base_hour, base_minute, base_second)\n",
    "dt_comp_utc = datetime.datetime(base_year, base_month , base_day, base_hour, base_minute, base_second, tzinfo=datetime.timezone.utc)\n",
    "dt_comp_value_2 = datetime.datetime(base_year + 1, base_month + 2 , base_day + 3, base_hour + 4, base_minute + 5, base_second + 6)\n",
    "\n",
    "assert (dt_comp_value_1 < dt_comp_value_2) == True\n",
    "assert (dt_comp_value_1 <= dt_comp_value_2) == True\n",
    "assert (dt_comp_value_1 > dt_comp_value_2) == False\n",
    "assert (dt_comp_value_1 >= dt_comp_value_2) == False\n",
    "assert (dt_comp_value_1 == dt_comp_value_2) == False\n",
    "\n",
    "# date()メソッドで対応するdatetime.date(日付)が取得可能\n",
    "assert dt_comp_value_1.date() == datetime.date(base_year, base_month , base_day)\n",
    "\n",
    "#　dt_comp_value_1とdt_comp_utcはタイムゾーンが異なるので同じではない\n",
    "assert (dt_comp_value_1 == dt_comp_utc) == False"
   ]
  },
  {
   "source": [
    "## datetimeとtimedeltaの演算"
   ],
   "cell_type": "markdown",
   "metadata": {}
  },
  {
   "cell_type": "code",
   "execution_count": null,
   "metadata": {},
   "outputs": [],
   "source": [
    "base_year, base_month, base_day, base_hour, base_minute, base_second = 2021, 5, 23, 1, 10, 20\n",
    "dt_calc_value1 = datetime.datetime(base_year, base_month , base_day, base_hour, base_minute, base_second)\n",
    "dt_calc_value2 = datetime.datetime(base_year + 1, base_month + 1 , base_day + 1, base_hour + 1, base_minute + 2, base_second + 3, 4)\n",
    "\n",
    "# dt_calc_value2からdt_calc_value1を引いた差分のtimedelta\n",
    "td = dt_calc_value2 - dt_calc_value1\n",
    "assert type(td) is datetime.timedelta\n",
    "\n",
    "# timedeltaで内部的に保持されるのは days, seconds, microsecondsのみ\n",
    "assert td.days == 365 + 31 + 1\n",
    "assert td.seconds == 1 * 60 * 60 + 2 * 60 + 3\n",
    "assert td.microseconds == 4\n",
    "\n",
    "# timedeltaの初期化 全て7daysの値を指定\n",
    "td_week = datetime.timedelta(weeks=1)\n",
    "td_days = datetime.timedelta(days=7)\n",
    "td_hours = datetime.timedelta(hours=7*24)\n",
    "td_minutes = datetime.timedelta(minutes=7*24*60)\n",
    "td_seconds = datetime.timedelta(seconds=7*24*60*60)\n",
    "td_milliseconds = datetime.timedelta(milliseconds=7*24*60*60*1000)\n",
    "td_microseconds = datetime.timedelta(microseconds=7*24*60*60*1000*1000)\n",
    "\n",
    "assert td_week == td_days == td_hours == td_minutes == td_seconds == td_milliseconds == td_microseconds\n",
    "\n",
    "# total_seconds()メソッドで総秒数:floatが取得可能\n",
    "assert td.total_seconds() == td.days * 24 * 60 * 60 + td.seconds + float(td.microseconds/1000000)\n",
    "\n",
    "# dt_calc_value1にtdを足すと元の値に戻る\n",
    "assert dt_calc_value1 + td == dt_calc_value2\n",
    "\n",
    "# 割り算\n",
    "assert datetime.timedelta(weeks=1) / datetime.timedelta(days=1) == 7\n",
    "assert datetime.timedelta(weeks=1) / datetime.timedelta(minutes=1) == 7*24*60"
   ]
  },
  {
   "source": [
    "## dadatetimeからstrの変換"
   ],
   "cell_type": "markdown",
   "metadata": {}
  },
  {
   "cell_type": "code",
   "execution_count": 11,
   "metadata": {},
   "outputs": [],
   "source": [
    "base_year, base_month, base_day, base_hour, base_minute, base_second = 2021, 5, 23, 1, 10, 20\n",
    "dt_tzinfo_none = datetime.datetime(base_year, base_month , base_day, base_hour, base_minute, base_second)\n",
    "dt_utc = datetime.datetime(base_year, base_month , base_day, base_hour, base_minute, base_second, tzinfo=datetime.timezone.utc)\n",
    "dt_asia_tokyo = datetime.datetime(base_year, base_month , base_day, base_hour, base_minute, base_second, tzinfo=datetime.timezone(datetime.timedelta(seconds=32400)))\n",
    "\n",
    "assert dt_tzinfo_none.strftime(\"%Y/%m/%d %H:%M:%S\") == \"2021/05/23 01:10:20\"\n",
    "\n",
    "# tzinfo=Noneの場合は、%zを指定しても無視される。\n",
    "assert dt_tzinfo_none.strftime(\"%Y/%m/%d %H:%M:%S%z\") == \"2021/05/23 01:10:20\"\n",
    "\n",
    "assert dt_utc.strftime(\"%Y/%m/%d %H:%M:%S%z\") == \"2021/05/23 01:10:20+0000\"\n",
    "assert dt_asia_tokyo.strftime(\"%Y/%m/%d %H:%M:%S%z\") == \"2021/05/23 01:10:20+0900\""
   ]
  },
  {
   "source": [
    "## strからdadatetimeの変換"
   ],
   "cell_type": "markdown",
   "metadata": {}
  },
  {
   "cell_type": "code",
   "execution_count": 12,
   "metadata": {},
   "outputs": [],
   "source": [
    "dt_from_str_1 = datetime.datetime.strptime('2021/05/23 01', '%Y/%m/%d %H')\n",
    "assert type(dt_from_str_1) is datetime.datetime\n",
    "\n",
    "assert dt_from_str_1 == datetime.datetime(2021, 5 , 23, 1)\n",
    "\n",
    "dt_from_str_2 = datetime.datetime.strptime('2021/05/23 01:10:20+0900', '%Y/%m/%d %H:%M:%S%z')\n",
    "assert type(dt_from_str_2) is datetime.datetime\n",
    "assert dt_from_str_2 == datetime.datetime(2021, 5 , 23, 1, 10, 20, tzinfo=datetime.timezone(datetime.timedelta(seconds=32400)))"
   ]
  },
  {
   "source": [
    "# 関数"
   ],
   "cell_type": "markdown",
   "metadata": {}
  },
  {
   "cell_type": "code",
   "execution_count": 13,
   "metadata": {},
   "outputs": [],
   "source": [
    "## 定義"
   ]
  },
  {
   "cell_type": "code",
   "execution_count": 14,
   "metadata": {},
   "outputs": [],
   "source": [
    "def greet(name):\n",
    "    return \"こんにちは{}さん\".format(name)\n",
    "\n",
    "assert greet(\"hoge\") == \"こんにちはhogeさん\""
   ]
  },
  {
   "source": [
    "# 条件分岐"
   ],
   "cell_type": "markdown",
   "metadata": {}
  },
  {
   "source": [
    "## if、elif、else"
   ],
   "cell_type": "markdown",
   "metadata": {}
  },
  {
   "cell_type": "code",
   "execution_count": 16,
   "metadata": {},
   "outputs": [],
   "source": [
    "def if_sample(value):\n",
    "    if value == 1:\n",
    "        return \"value is 1\" \n",
    "    elif value == 2:\n",
    "        return \"value is 2\"\n",
    "    else:\n",
    "        return \"else value\" \n",
    "\n",
    "assert if_sample(1) == \"value is 1\"\n",
    "assert if_sample(2) == \"value is 2\"\n",
    "assert if_sample(3) == \"else value\""
   ]
  },
  {
   "source": [
    "# 複合データ"
   ],
   "cell_type": "markdown",
   "metadata": {}
  },
  {
   "source": [
    "# list"
   ],
   "cell_type": "markdown",
   "metadata": {}
  },
  {
   "cell_type": "code",
   "execution_count": 18,
   "metadata": {},
   "outputs": [],
   "source": [
    "# list\n",
    "list_value = [\"hoge\", \"fuga\", \"piyo\"]\n",
    "\n",
    "# サイズと中身のチェック\n",
    "assert len(list_value) == 3\n",
    "assert list_value[0] == \"hoge\"\n",
    "assert list_value[1] == \"fuga\"\n",
    "assert list_value[2] == \"piyo\"\n",
    "\n",
    "assert type(list_value) is list\n",
    "\n",
    "with pytest.raises(IndexError):   \n",
    "    assert list_value[3] == \"\"\n",
    "\n",
    "# index指定の変更　\n",
    "list_value[2] = \"piyo2\"\n",
    "assert list_value[2] == \"piyo2\"\n",
    "\n",
    "# 追加\n",
    "list_value.append(\"hogera\")\n",
    "assert len(list_value) == 4\n",
    "assert list_value[3] == \"hogera\"\n",
    "\n",
    "# index指定の削除\n",
    "del list_value[3]\n",
    "assert len(list_value) == 3"
   ]
  },
  {
   "source": [
    "## list 型混在"
   ],
   "cell_type": "markdown",
   "metadata": {}
  },
  {
   "cell_type": "code",
   "execution_count": 19,
   "metadata": {},
   "outputs": [],
   "source": [
    "list_value = [\"hoge\", 1, 2.0, 3, 4]\n",
    "\n",
    "assert list_value[0] == \"hoge\"\n",
    "assert type(list_value[0]) is str\n",
    "\n",
    "assert list_value[1] == 1\n",
    "assert type(list_value[1]) is int\n",
    "\n",
    "assert list_value[2] == 2.0\n",
    "assert type(list_value[2]) is float"
   ]
  },
  {
   "source": [
    "## tuple"
   ],
   "cell_type": "markdown",
   "metadata": {}
  },
  {
   "cell_type": "code",
   "execution_count": 26,
   "metadata": {},
   "outputs": [],
   "source": [
    "tuple_value = (1, \"two\", 3, 4, 5)\n",
    "assert type(tuple_value) is tuple\n",
    "\n",
    "assert len(tuple_value) == 5\n",
    "\n",
    "assert tuple_value[0] == 1\n",
    "assert type(tuple_value[0]) is int\n",
    "\n",
    "assert tuple_value[1] == \"two\"\n",
    "assert type(tuple_value[1]) is str\n",
    "\n",
    "# インデックスが2以降の要素を含むタプルの取得\n",
    "assert type(tuple_value[2:]) is tuple\n",
    "assert tuple_value[2:] == (3, 4, 5)\n",
    "\n",
    "# インデックスが3以降の要素を含むタプルの取得\n",
    "assert tuple_value[3:] == (4, 5)\n",
    "\n",
    "# インデックスが2より小さい要素を含むタプルの取得\n",
    "assert tuple_value[:2] == (1, \"two\")\n",
    "\n",
    "# インデックスが1以降で3より小さい要素を含むタプルの取得\n",
    "assert tuple_value[1:3] ==  (\"two\", 3)\n"
   ]
  },
  {
   "source": [
    "## dict"
   ],
   "cell_type": "markdown",
   "metadata": {}
  },
  {
   "cell_type": "code",
   "execution_count": 27,
   "metadata": {},
   "outputs": [],
   "source": [
    "dict_value = {1:\"first\", 2:\"second\", \"three\":\"third\"}\n",
    "\n",
    "assert type(dict_value) is dict\n",
    "assert len(dict_value) == 3\n",
    "assert dict_value[1] == \"first\"\n",
    "assert dict_value[2] == \"second\"\n",
    "assert dict_value[\"three\"] == \"third\"\n",
    "\n",
    "# keys()でキーを取得\n",
    "dict_value_keys = list(dict_value.keys())\n",
    "assert type(dict_value_keys[0]) is int\n",
    "assert type(dict_value_keys[1]) is int\n",
    "assert type(dict_value_keys[2]) is str\n",
    "\n",
    "# キーが存在しないとき\n",
    "with pytest.raises(KeyError):\n",
    "    assert dict_value[4] == \"third\"\n",
    "\n",
    "# getであればエラーならずNoneが返却される。\n",
    "assert dict_value.get(4) == None\n",
    "\n",
    "# エントリー追加\n",
    "dict_value[4] = \"fourth\"\n",
    "assert dict_value[4] == \"fourth\"\n",
    "\n",
    "# エントリー削除\n",
    "del dict_value[4]\n",
    "assert dict_value.get(4) == None"
   ]
  },
  {
   "source": [
    "## set"
   ],
   "cell_type": "markdown",
   "metadata": {}
  },
  {
   "cell_type": "code",
   "execution_count": 28,
   "metadata": {},
   "outputs": [],
   "source": [
    "# set 100, 100.0は同じ同一値なので単一エントリーになる\n",
    "set_value = {\"hoge\", \"hoge\", \"fuga\", (1, 2), 100, 100.0, 200}\n",
    "\n",
    "assert type(set_value) is set\n",
    "\n",
    "# \"hoge\"は１個としてカウント、100, 100.0も同様\n",
    "assert len(set_value) == 5\n",
    "\n",
    "assert \"hoge\" in set_value\n",
    "assert \"fuga\" in set_value\n",
    "assert (1, 2) in set_value\n",
    "\n",
    "# 100でも100.0でも含まれる\n",
    "assert 100 in set_value\n",
    "assert 100.0 in set_value\n",
    "\n",
    "assert 200 in set_value"
   ]
  },
  {
   "source": [
    "# 複合データの関連内容"
   ],
   "cell_type": "markdown",
   "metadata": {}
  },
  {
   "source": [
    "## zipとenumerate"
   ],
   "cell_type": "markdown",
   "metadata": {}
  },
  {
   "cell_type": "code",
   "execution_count": 30,
   "metadata": {},
   "outputs": [],
   "source": [
    "# zip関数は、複数のイテラブルなオブジェクトの要素をまとめる関数\n",
    "expected_dic = {1:\"a\", 2:\"b\", 3:\"c\"}\n",
    "expected_tuple_list = ((1, \"a\"), (2, \"b\"), (3, \"c\"))\n",
    "\n",
    "# item自体のfor\n",
    "i = 0\n",
    "for item in zip([1, 2, 3], [\"a\", \"b\", \"c\"]):\n",
    "    assert item == expected_tuple_list[i]\n",
    "    assert type(item) is tuple\n",
    "    i += 1\n",
    "\n",
    "# key, valueのfor\n",
    "for key, value in zip([1, 2, 3], [\"a\", \"b\", \"c\"]):\n",
    "    assert value == expected_dic[key]\n",
    "    assert type(key) is int\n",
    "    assert type(value) is str\n",
    "\n",
    "# index付きのfor\n",
    "for i, item in enumerate(zip([1,2,3], [\"a\", \"b\", \"c\"])):\n",
    "    assert item == expected_tuple_list[i]"
   ]
  },
  {
   "source": [
    "## range関数"
   ],
   "cell_type": "markdown",
   "metadata": {}
  },
  {
   "cell_type": "code",
   "execution_count": 35,
   "metadata": {},
   "outputs": [],
   "source": [
    "result = []\n",
    "for i in range(5):\n",
    "    result.append(i)\n",
    "    assert type(i) is int\n",
    "\n",
    "assert result == [0, 1, 2, 3, 4]\n",
    "\n",
    "# range関数の戻り値はrange\n",
    "assert type(range(5)) is range"
   ]
  },
  {
   "source": [
    "# タプルやリストのアンパック"
   ],
   "cell_type": "markdown",
   "metadata": {}
  },
  {
   "cell_type": "code",
   "execution_count": 36,
   "metadata": {},
   "outputs": [],
   "source": [
    "## シーケンスのアンパックで変数(str)を一括で定義"
   ]
  },
  {
   "cell_type": "code",
   "execution_count": 37,
   "metadata": {},
   "outputs": [],
   "source": [
    "str_value_1, str_value_2 = \"hoge\",  \"fuga\"\n",
    "\n",
    "assert str_value_1 == \"hoge\"\n",
    "assert type(str_value_1) is str\n",
    "\n",
    "assert str_value_2 == \"fuga\"\n",
    "assert type(str_value_2) is str"
   ]
  },
  {
   "source": [
    "## シーケンスのアンパックで変数(str,int, float)を一括で定義"
   ],
   "cell_type": "markdown",
   "metadata": {}
  },
  {
   "cell_type": "code",
   "execution_count": null,
   "metadata": {},
   "outputs": [],
   "source": [
    "str_value, int_value, float_value = \"hoge\",  1, 2.0\n",
    "\n",
    "assert str_value == \"hoge\"\n",
    "assert type(str_value) is str\n",
    "\n",
    "assert int_value == 1\n",
    "assert type(int_value) is int\n",
    "\n",
    "assert float_value == 2.0\n",
    "assert type(float_value) is float"
   ]
  },
  {
   "source": [
    "## シーケンス(tuple)のアンパックで変数を一括で定義"
   ],
   "cell_type": "markdown",
   "metadata": {}
  },
  {
   "cell_type": "code",
   "execution_count": 38,
   "metadata": {},
   "outputs": [],
   "source": [
    "bread1, bread2, bread3 = (\"アンパン\", \"食パン\", \"カレーパン\")\n",
    "\n",
    "assert type(bread1) is str\n",
    "assert bread1 == \"アンパン\"\n",
    "assert bread2 == \"食パン\"\n",
    "assert bread3 == \"カレーパン\""
   ]
  },
  {
   "source": [
    "## *を利用したアンパック"
   ],
   "cell_type": "markdown",
   "metadata": {}
  },
  {
   "cell_type": "code",
   "execution_count": 39,
   "metadata": {},
   "outputs": [],
   "source": [
    "str_first, str_second, *str_third = \"hoge1\",  \"hoge2\", \"hoge3\", \"hoge4\", \"hoge5\"\n",
    "\n",
    "assert str_first == \"hoge1\"\n",
    "assert type(str_first) is str\n",
    "\n",
    "assert str_second == \"hoge2\"\n",
    "assert type(str_second) is str\n",
    "\n",
    "assert str_third == [\"hoge3\", \"hoge4\", \"hoge5\"]\n",
    "assert type(str_third) is list"
   ]
  },
  {
   "cell_type": "code",
   "execution_count": 40,
   "metadata": {},
   "outputs": [],
   "source": [
    "str_first, *str_second, str_third = \"hoge1\",  \"hoge2\", \"hoge3\", \"hoge4\", \"hoge5\"\n",
    "\n",
    "assert str_first == \"hoge1\"\n",
    "assert type(str_first) is str\n",
    "\n",
    "assert str_second == [\"hoge2\", \"hoge3\", \"hoge4\"]\n",
    "assert type(str_second) is list\n",
    "\n",
    "assert str_third == \"hoge5\"\n",
    "assert type(str_third) is str"
   ]
  },
  {
   "source": [
    "## dictのアンパック"
   ],
   "cell_type": "markdown",
   "metadata": {}
  },
  {
   "cell_type": "code",
   "execution_count": 41,
   "metadata": {},
   "outputs": [],
   "source": [
    "def bread_info(name, price, cost):\n",
    "    return \"name:{} price:{}, cost:{}\".format(name, price, cost)\n",
    "\n",
    "bread_dict = {\"name\":\"アンパン\", \"price\":\"140\", \"cost\":\"50\"}\n",
    "assert bread_info(**bread_dict) == \"name:アンパン price:140, cost:50\""
   ]
  },
  {
   "source": [
    "# リスト内包表記"
   ],
   "cell_type": "markdown",
   "metadata": {}
  },
  {
   "source": [
    "## strが要素のlist"
   ],
   "cell_type": "markdown",
   "metadata": {}
  },
  {
   "cell_type": "code",
   "execution_count": 42,
   "metadata": {},
   "outputs": [],
   "source": [
    "person_name_list = [\"{}さん\".format(name) for name in [\"源\",\"結衣\"]]\n",
    "\n",
    "assert type(person_name_list) is list\n",
    "assert person_name_list[0] == \"源さん\"\n",
    "assert person_name_list[1] == \"結衣さん\""
   ]
  },
  {
   "source": [
    "## dict キー:int 値:int"
   ],
   "cell_type": "markdown",
   "metadata": {}
  },
  {
   "cell_type": "code",
   "execution_count": 1,
   "metadata": {},
   "outputs": [],
   "source": [
    "# 0 , 1, 2, 3, 4の値がキー、各キーの二乗の値が値のdict\n",
    "squares = {number: number**2 for number in [0, 1, 2, 3, 4]}\n",
    "\n",
    "assert type(squares) is dict\n",
    "assert len(squares) == 5\n",
    "\n",
    "squares_keys = list(squares.keys())\n",
    "assert squares_keys == [0, 1, 2, 3, 4]\n",
    "\n",
    "squares_values = list(squares.values())\n",
    "assert squares_values == [0, 1, 4, 9, 16]\n",
    "\n",
    "i = 0\n",
    "for square_key in squares.keys():\n",
    "    assert square_key == i\n",
    "    i += 1\n",
    "\n",
    "for i, square_key in enumerate(squares.keys()):\n",
    "    assert square_key == i\n",
    "\n",
    "i = 0\n",
    "for value_tuple in squares.items():\n",
    "    assert value_tuple == (i, i**2)\n",
    "    i += 1\n",
    "\n",
    "i = 0\n",
    "for key, value in squares.items():\n",
    "    assert key == i\n",
    "    assert value == i**2\n",
    "    i += 1\n",
    "\n",
    "i = 0\n",
    "for key, value in squares.items():\n",
    "    assert (key, value) == (i, i**2)\n",
    "    i += 1"
   ]
  },
  {
   "source": [
    "## dict キー:tuple 値:str"
   ],
   "cell_type": "markdown",
   "metadata": {}
  },
  {
   "cell_type": "code",
   "execution_count": 44,
   "metadata": {},
   "outputs": [],
   "source": [
    "person_tuple_list = [('源', 40), ('結衣', 32)]\n",
    "person_dict = {(name,age):('{} is {} years old.'.format(name, age)) for name,age in person_tuple_list}\n",
    "\n",
    "assert type(person_dict) is dict\n",
    "assert len(person_dict) == 2\n",
    "\n",
    "person_dict_keys = list(person_dict.keys())\n",
    "assert len(person_dict_keys) == 2\n",
    "\n",
    "assert type(person_dict_keys[0]) is tuple\n",
    "assert person_dict_keys[0] == person_tuple_list[0]\n",
    "\n",
    "assert type(person_dict_keys[1]) is tuple\n",
    "assert person_dict_keys[1] == person_tuple_list[1]\n",
    "\n",
    "person_dict_values = list(person_dict.values())\n",
    "assert len(person_dict_values) == 2\n",
    "\n",
    "assert type(person_dict_values[0]) is str\n",
    "assert person_dict_values[0] == \"源 is 40 years old.\"\n",
    "assert person_dict[person_tuple_list[0]] == \"源 is 40 years old.\"\n",
    "\n",
    "assert type(person_dict_values[1]) is str\n",
    "assert person_dict_values[1] == \"結衣 is 32 years old.\"\n",
    "assert person_dict[person_tuple_list[1]] == \"結衣 is 32 years old.\""
   ]
  },
  {
   "cell_type": "code",
   "execution_count": null,
   "metadata": {},
   "outputs": [],
   "source": [
    "## set"
   ]
  },
  {
   "cell_type": "code",
   "execution_count": 45,
   "metadata": {},
   "outputs": [],
   "source": [
    "# [\"源\", \"結衣\", \"桃太郎\"]の長さが3より小さい要素のみを含むsetを宣言\n",
    "person_name_set = {name for name in [\"源\", \"結衣\", \"桃太郎\"] if len(name) < 3}\n",
    "\n",
    "assert type(person_name_set) is set\n",
    "assert \"源\" in person_name_set\n",
    "assert \"結衣\" in person_name_set\n",
    "assert \"太郎\" not in person_name_set"
   ]
  },
  {
   "source": [
    "## raneと併用"
   ],
   "cell_type": "markdown",
   "metadata": {}
  },
  {
   "cell_type": "code",
   "execution_count": 47,
   "metadata": {},
   "outputs": [],
   "source": [
    " result_list = [i for i in range(10) if i % 2 == 0]\n",
    "\n",
    " assert type(result_list) is list\n",
    " assert len(result_list) == 5\n",
    " assert result_list == [0, 2, 4, 6, 8]"
   ]
  },
  {
   "source": [
    "## 内包表記の問題点\n",
    "宣言時に全部展開されるのでメモリ容量を考慮する必要があります。"
   ],
   "cell_type": "markdown",
   "metadata": {}
  },
  {
   "cell_type": "code",
   "execution_count": 4,
   "metadata": {},
   "outputs": [
    {
     "output_type": "stream",
     "name": "stdout",
     "text": [
      "増分=11180.0Kbyte\n"
     ]
    }
   ],
   "source": [
    "import random\n",
    "import string\n",
    "import os\n",
    "import psutil\n",
    "\n",
    "RANDAM_STR_ELEMENT_SIZE = 1024 * 1024\n",
    "RANDAM_STR_LIST_SIZE = 10\n",
    "\n",
    "def generate_randam_str(dat):\n",
    "    buffer = []\n",
    "    try:\n",
    "        for i in range(RANDAM_STR_ELEMENT_SIZE):\n",
    "            buffer.append(random.choice(dat))\n",
    "        return ''.join(buffer)\n",
    "    finally:\n",
    "        buffer.clear()\n",
    "\n",
    "dat = string.digits + string.ascii_lowercase + string.ascii_uppercase\n",
    "\n",
    "process = psutil.Process(os.getpid())\n",
    "rss_value_1 = process.memory_info().rss\n",
    "\n",
    "randam_str_list = [generate_randam_str(dat) for i in range(RANDAM_STR_LIST_SIZE)]\n",
    "assert len(randam_str_list) == RANDAM_STR_LIST_SIZE\n",
    "for i in range(RANDAM_STR_LIST_SIZE): \n",
    "    assert len(randam_str_list[i]) == RANDAM_STR_ELEMENT_SIZE\n",
    "\n",
    "rss_value_2 = process.memory_info().rss\n",
    "print(\"増分={}Kbyte\".format((rss_value_2 - rss_value_1)/1024))\n",
    "\n",
    "# 2回目以降に増分が見えなくなるので、randam_str_listを削除してインタラクティブセッションをきれいにする。\n",
    "del randam_str_list"
   ]
  },
  {
   "source": [
    "## 内包表記の問題点の解消方法"
   ],
   "cell_type": "markdown",
   "metadata": {}
  },
  {
   "cell_type": "code",
   "execution_count": 5,
   "metadata": {},
   "outputs": [
    {
     "output_type": "stream",
     "name": "stdout",
     "text": [
      "増分1=0.0Kbyte\n",
      "増分2=1156.0Kbyte\n"
     ]
    }
   ],
   "source": [
    "import random\n",
    "import string\n",
    "import os\n",
    "import psutil\n",
    "\n",
    "RANDAM_STR_ELEMENT_SIZE = 1024 * 1024\n",
    "RANDAM_STR_LIST_SIZE = 10\n",
    "\n",
    "def generate_randam_str(dat):\n",
    "    buffer = []\n",
    "    try:\n",
    "        for i in range(RANDAM_STR_ELEMENT_SIZE):\n",
    "            buffer.append(random.choice(dat))\n",
    "        return ''.join(buffer)\n",
    "    finally:\n",
    "        buffer.clear()\n",
    "\n",
    "dat = string.digits + string.ascii_lowercase + string.ascii_uppercase\n",
    "\n",
    "process = psutil.Process(os.getpid())\n",
    "rss_value_1 = process.memory_info().rss\n",
    "\n",
    "randam_str_list = (generate_randam_str(dat) for i in range(RANDAM_STR_LIST_SIZE))\n",
    "\n",
    "rss_value_2 = process.memory_info().rss\n",
    "print(\"増分1={}Kbyte\".format((rss_value_2 - rss_value_1)/1024))\n",
    "\n",
    "for randam_str in randam_str_list:\n",
    "    assert len(randam_str) == RANDAM_STR_ELEMENT_SIZE\n",
    "\n",
    "rss_value_3 = process.memory_info().rss\n",
    "print(\"増分2={}Kbyte\".format((rss_value_3 - rss_value_1)/1024))\n",
    "\n",
    "del randam_str_list"
   ]
  },
  {
   "source": [
    "# class\n",
    "## 定義 "
   ],
   "cell_type": "markdown",
   "metadata": {}
  },
  {
   "cell_type": "code",
   "execution_count": 52,
   "metadata": {},
   "outputs": [],
   "source": [
    "#class Python 3系は新スタイルクラスのみなので新旧を考慮する必要なし(PersonClass(object)と書いても問題なし)\n",
    "#Python 2系(2.2以降)はclass PersonClass(object):と記載する必要あり\n",
    "class PersonClass(object):\n",
    "    # クラス変数\n",
    "    next_person_id = 1\n",
    "\n",
    "    # 初期化メソッド内でインスタンス変数を宣言\n",
    "    def __init__(self, name, age):\n",
    "        # インスタンス変数 nameとageとperson_idを宣言\n",
    "        self.name = name\n",
    "        self.age = age\n",
    "        # 現在のPersonClass.next_person_idをperson_idにセット\n",
    "        self.person_id = PersonClass.next_person_id\n",
    "        # PersonClass.next_person_idをインクリメント\n",
    "        PersonClass.next_person_id += 1\n",
    "\n",
    "    def get_info(self):\n",
    "        return \"name:{} age:{}\".format(self.name, self.age)\n",
    "\n",
    "    def echo(self, echo_value):\n",
    "        return echo_value\n",
    "\n",
    "assert type(PersonClass) is type\n",
    "\n",
    "assert PersonClass.next_person_id == 1\n",
    "\n",
    "person1 = PersonClass(\"name1\", 10)\n",
    "assert type(person1) is PersonClass\n",
    "\n",
    "assert person1.name == \"name1\"\n",
    "assert person1.age == 10\n",
    "assert person1.person_id == 1\n",
    "assert person1.get_info() == \"name:name1 age:10\"\n",
    "assert person1.echo(\"hoge\") == \"hoge\"\n",
    "assert person1.echo(100) == 100\n",
    "\n",
    "assert PersonClass.next_person_id == 2\n",
    "\n",
    "person2 = PersonClass(\"name2\", 11)\n",
    "assert type(person2) is PersonClass\n",
    "assert person2.name == \"name2\"\n",
    "assert person2.age == 11\n",
    "assert person2.person_id == 2\n",
    "assert person2.get_info() == \"name:name2 age:11\"\n",
    "\n",
    "assert PersonClass.next_person_id == 3"
   ]
  },
  {
   "source": [
    "## 継承"
   ],
   "cell_type": "markdown",
   "metadata": {}
  },
  {
   "cell_type": "code",
   "execution_count": 53,
   "metadata": {},
   "outputs": [],
   "source": [
    "class EmployeeClass(PersonClass):\n",
    "    def __init__(self, name, age, employee_id):\n",
    "      super().__init__(name, age)\n",
    "      self.employee_id = employee_id\n",
    "\n",
    "    def get_info(self):\n",
    "      return \"name:{} age:{} employee_id:{}\".format(self.name, self.age, self.employee_id)    \n",
    "\n",
    "assert type(EmployeeClass) is type\n",
    "\n",
    "employee1 = EmployeeClass(\"employee_name1\", 13, \"00001\")\n",
    "\n",
    "assert not type(employee1) is PersonClass\n",
    "assert type(employee1) is EmployeeClass\n",
    "assert isinstance(employee1, PersonClass)\n",
    "assert isinstance(employee1, EmployeeClass)\n",
    "assert employee1.name == \"employee_name1\" \n",
    "assert employee1.age == 13\n",
    "assert employee1.get_info() == \"name:employee_name1 age:13 employee_id:00001\""
   ]
  },
  {
   "source": [
    "## アンダーバーとプロパティ\n",
    "### 対象クラス"
   ],
   "cell_type": "markdown",
   "metadata": {}
  },
  {
   "cell_type": "code",
   "execution_count": 55,
   "metadata": {},
   "outputs": [],
   "source": [
    "class SampleClass:\n",
    "    def __init__(self, name):\n",
    "        self.name = name\n",
    "        self._name = \"_{}\".format(name)\n",
    "        # ネームマングリングで_SampleClass__nameに変更される。\n",
    "        self.__name = \"__{}\".format(name)\n",
    "\n",
    "    @property\n",
    "    def name1(self):\n",
    "        return self.name\n",
    "\n",
    "    @name1.setter\n",
    "    def name1(self, value):\n",
    "        self.name = value\n",
    "\n",
    "    @property\n",
    "    def name2(self):\n",
    "        return self._name\n",
    "\n",
    "    @name2.setter\n",
    "    def name2(self, value):\n",
    "        self._name = value\n",
    "\n",
    "\n",
    "    @property\n",
    "    def name3(self):\n",
    "        return self.__name\n",
    "\n",
    "    @name3.setter\n",
    "    def name3(self, value):\n",
    "        self.__name = value"
   ]
  },
  {
   "source": [
    "### 検証処理"
   ],
   "cell_type": "markdown",
   "metadata": {}
  },
  {
   "cell_type": "code",
   "execution_count": 56,
   "metadata": {},
   "outputs": [],
   "source": [
    "sample1 = SampleClass(\"sample_name1\")\n",
    "\n",
    "# メンバー名でアクセス　\n",
    "assert sample1.name == \"sample_name1\"\n",
    "assert sample1._name == \"_sample_name1\"\n",
    "#　sample1.__nameは存在しないので、AttributeErrorが発生する。\n",
    "with pytest.raises(AttributeError):\n",
    "   assert sample1.__name == \"__sample_name1\"\n",
    "\n",
    "# ネームマングリング self.__nameは_クラス名__変数名に変換されるので\n",
    "# _SampleClass__nameで参照可能\n",
    "assert sample1._SampleClass__name == \"__sample_name1\"\n",
    "\n",
    "# プロパティでのアクセス\n",
    "assert sample1.name1 == \"sample_name1\"\n",
    "assert sample1.name1 == sample1.name\n",
    "\n",
    "assert sample1.name2 == \"_sample_name1\"\n",
    "assert sample1.name2 == sample1._name\n",
    "\n",
    "# プロパティでのアクセスすると__nameは参照可能\n",
    "assert sample1.name3 == \"__sample_name1\""
   ]
  },
  {
   "source": [
    "### 継承時の検証処理"
   ],
   "cell_type": "markdown",
   "metadata": {}
  },
  {
   "cell_type": "code",
   "execution_count": 57,
   "metadata": {},
   "outputs": [],
   "source": [
    "class SampleClassEx(SampleClass):\n",
    "    def __init__(self, name):\n",
    "        super().__init__(name)\n",
    "        self._SampleClass__name = \"over write\"\n",
    "\n",
    "sample_ex = SampleClassEx(\"sample_ex_name1\")\n",
    "# _SampleClass__nameは上書きされる\n",
    "assert sample_ex._SampleClass__name == \"over write\"\n",
    "\n",
    "# プロパティでアクセスしSampleClassの__nameが上書きされていないことを確認\n",
    "assert sample1.name3 == \"__sample_name1\"\n",
    "assert not sample1.name3 == \"over write\""
   ]
  },
  {
   "source": [
    "# その他\n",
    "##strの変更 頻繁なstr変更はパフォーマンス低下を招くのでlistのappendメソッドを利用"
   ],
   "cell_type": "markdown",
   "metadata": {}
  },
  {
   "cell_type": "code",
   "execution_count": 58,
   "metadata": {},
   "outputs": [],
   "source": [
    "buffer = []\n",
    "buffer.append(\"hoge\")\n",
    "buffer.append(\"fuga\")\n",
    "buffer.append(\"piyo\")\n",
    "result = ''.join(buffer)\n",
    "\n",
    "assert result == \"hogefugapiyo\""
   ]
  },
  {
   "cell_type": "code",
   "execution_count": null,
   "metadata": {},
   "outputs": [],
   "source": []
  }
 ]
}